{
 "cells": [
  {
   "cell_type": "code",
   "execution_count": 79,
   "metadata": {},
   "outputs": [],
   "source": [
    "import netCDF4 as nc\n",
    "from pprint import pprint\n",
    "import matplotlib.pyplot as plt"
   ]
  },
  {
   "cell_type": "markdown",
   "metadata": {},
   "source": [
    "## Explore netCDF HEMCO geographical emissions data\n",
    "\n",
    "For some cool plotting we could try using NASA's Panoply. Other PLs might support better netCDF data interfaces, like R, MATLAB, etc."
   ]
  },
  {
   "cell_type": "code",
   "execution_count": 80,
   "metadata": {},
   "outputs": [
    {
     "name": "stdout",
     "output_type": "stream",
     "text": [
      "{'lat': <class 'netCDF4._netCDF4.Dimension'>: name = 'lat', size = 360,\n",
      " 'lon': <class 'netCDF4._netCDF4.Dimension'>: name = 'lon', size = 720,\n",
      " 'time': <class 'netCDF4._netCDF4.Dimension'> (unlimited): name = 'time', size = 12}\n"
     ]
    }
   ],
   "source": [
    "ds = nc.Dataset('./data/N2O-em-anthro_CMIP_CEDS_1754.nc', format=\"NETCDF4\")\n",
    "pprint(ds.dimensions)"
   ]
  },
  {
   "cell_type": "code",
   "execution_count": 85,
   "metadata": {},
   "outputs": [
    {
     "name": "stdout",
     "output_type": "stream",
     "text": [
      "Annual Anthropogenic Emissions of N2O prepared for input4MIPs\n",
      "mon\n",
      "50 km\n",
      "atmos\n"
     ]
    }
   ],
   "source": [
    "metadata = ds.__dict__\n",
    "print(metadata['title'])\n",
    "# print(metadata['VOC_name'])\n",
    "print(metadata['frequency'])\n",
    "# print(metadata['molecular_weight'], metadata['molecular_weight_unit'])\n",
    "print(metadata['nominal_resolution'])\n",
    "print(metadata['realm'])\n",
    "# metadata"
   ]
  },
  {
   "cell_type": "code",
   "execution_count": 142,
   "metadata": {},
   "outputs": [
    {
     "name": "stdout",
     "output_type": "stream",
     "text": [
      "time: time\n",
      "lon: longitude\n",
      "lat: latitude\n",
      "N2O_agr: N2O anthropogenic emissions from non-combustion agricultural sector\n",
      "N2O_ene: N2O anthropogenic emissions from energy transformation and extraction\n",
      "N2O_ind: N2O anthropogenic emissions from industrial combustion and processes\n",
      "N2O_rco: N2O anthropogenic emissions from residential, commercial, and other\n",
      "N2O_shp: N2O anthropogenic emissions from international shipping\n",
      "N2O_slv: N2O anthropogenic emissions from solvents\n",
      "N2O_tra: N2O anthropogenic emissions from surface Transportation (Road, Rail, Other)\n",
      "N2O_wst: N2O anthropogenic emissions from waste disposal and handling\n"
     ]
    }
   ],
   "source": [
    "for var in ds.variables:\n",
    "    print(f\"{var}: {ds.variables[var].long_name}\")"
   ]
  },
  {
   "cell_type": "code",
   "execution_count": 139,
   "metadata": {},
   "outputs": [
    {
     "data": {
      "text/plain": [
       "masked_array(\n",
       "  data=[[0., 0., 0., ..., 0., 0., 0.],\n",
       "        [0., 0., 0., ..., 0., 0., 0.],\n",
       "        [0., 0., 0., ..., 0., 0., 0.],\n",
       "        ...,\n",
       "        [0., 0., 0., ..., 0., 0., 0.],\n",
       "        [0., 0., 0., ..., 0., 0., 0.],\n",
       "        [0., 0., 0., ..., 0., 0., 0.]],\n",
       "  mask=False,\n",
       "  fill_value=1e+20,\n",
       "  dtype=float32)"
      ]
     },
     "execution_count": 139,
     "metadata": {},
     "output_type": "execute_result"
    }
   ],
   "source": [
    "ds.variables['N2O_tra'][:][0]"
   ]
  },
  {
   "cell_type": "code",
   "execution_count": 145,
   "metadata": {},
   "outputs": [
    {
     "data": {
      "image/png": "[encoded data removed]",
      "text/plain": [
       "<Figure size 720x360 with 8 Axes>"
      ]
     },
     "metadata": {
      "needs_background": "light"
     },
     "output_type": "display_data"
    }
   ],
   "source": [
    "f, axs = plt.subplots(2,4, figsize = (10,5))\n",
    "axs[0, 0].contourf(ds.variables['N2O_agr'][:][0])\n",
    "axs[0, 1].contourf(ds.variables['N2O_ene'][:][0])\n",
    "axs[0, 2].contourf(ds.variables['N2O_ind'][:][0])\n",
    "axs[0, 3].contourf(ds.variables['N2O_rco'][:][0])\n",
    "axs[1, 0].contourf(ds.variables['N2O_shp'][:][0])\n",
    "axs[1, 1].contourf(ds.variables['N2O_slv'][:][0])\n",
    "axs[1, 2].contourf(ds.variables['N2O_tra'][:][0])\n",
    "axs[1, 3].contourf(ds.variables['N2O_wst'][:][0])\n",
    "\n",
    "plt.show()"
   ]
  },
  {
   "cell_type": "code",
   "execution_count": 146,
   "metadata": {},
   "outputs": [],
   "source": [
    "ds.close()"
   ]
  },
  {
   "cell_type": "markdown",
   "metadata": {},
   "source": [
    "### Takeaways\n",
    "Datasets are separated by different chemical compounds. The .nc files contain metadata, dimensions, and variables. The dimensions denote how the variables are separated indexed in the dataset (I think?). In these datasets we have 3 dimensions, time, latitude, and longitude. The latitude and longitude granularity is usually 50 kms. This is why each of the timeseries data for the actual compound vars are 3-dimensional. They have data at a particular longitude, for a particular latitude, at a particular time. We can plot using some of the 3D plotting tools on matplotlib or on Panoply. Furthermore, variables are split up by the type of emission, for example solvent or agriculture."
   ]
  },
  {
   "cell_type": "markdown",
   "metadata": {},
   "source": []
  }
 ],
 "metadata": {
  "interpreter": {
   "hash": "3cc2e85f8650ef9fcfc5bc3e7f0788c78043c315bbefa38b7ea1a0f7560c365a"
  },
  "kernelspec": {
   "display_name": "Python 3.7.5 ('venv': venv)",
   "language": "python",
   "name": "python3"
  },
  "language_info": {
   "codemirror_mode": {
    "name": "ipython",
    "version": 3
   },
   "file_extension": ".py",
   "mimetype": "text/x-python",
   "name": "python",
   "nbconvert_exporter": "python",
   "pygments_lexer": "ipython3",
   "version": "3.7.5"
  },
  "orig_nbformat": 4
 },
 "nbformat": 4,
 "nbformat_minor": 2
}
