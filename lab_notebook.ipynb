{
 "cells": [
  {
   "cell_type": "code",
   "execution_count": 5,
   "metadata": {},
   "outputs": [],
   "source": [
    "import pandas as pd\n",
    "import pprint\n",
    "import matplotlib.pyplot as plt\n",
    "from random import randint\n",
    "import datetime\n",
    "from dateutil.relativedelta import relativedelta\n",
    "\n",
    "# Local imports\n",
    "from data_fetcher import DataFetcher\n",
    "from preprocessing import Processor"
   ]
  },
  {
   "cell_type": "code",
   "execution_count": 6,
   "metadata": {},
   "outputs": [],
   "source": [
    "# Define some string constants for easy typing\n",
    "SAMPLE_DATA_BY_SITE = 'sampleData/bySite'\n",
    "SAMPLE_DATA_BY_COUNTY = 'sampleData/byCounty'\n",
    "SAMPLE_DATA_BY_STATE = 'sampleData/byState'\n",
    "SAMPLE_DATA_BY_BOX = 'sampleData/byBox'\n",
    "SAMPLE_DATA_BY_CBSA = 'sampleData/byCBSA'\n",
    "\n",
    "LIST_STATES = 'list/states'\n",
    "LIST_COUNTIES_BY_STATE = 'list/countiesByState'\n",
    "LIST_SITES_BY_COUNTY = 'list/sitesByCounty'\n",
    "LIST_CBSAs = 'list/cbsas'\n",
    "LIST_PARAM_CLASSES = 'list/classes'\n",
    "LIST_PARAM_IN_CLASS = 'list/parametersByClass'"
   ]
  },
  {
   "cell_type": "code",
   "execution_count": 8,
   "metadata": {},
   "outputs": [],
   "source": [
    "datafetcher = DataFetcher()"
   ]
  },
  {
   "cell_type": "code",
   "execution_count": 9,
   "metadata": {},
   "outputs": [
    {
     "name": "stdout",
     "output_type": "stream",
     "text": [
      "California state code: 06\n",
      "Criteria polutants code: CRITERIA\n",
      "Carbon monoxide code: 42101\n"
     ]
    }
   ],
   "source": [
    "cali_code = datafetcher.get_codes(LIST_STATES, all=False, value='California')\n",
    "print('California state code:', cali_code)\n",
    "\n",
    "criteria_code = datafetcher.get_codes(LIST_PARAM_CLASSES, all=False, value='Criteria Pollutants')\n",
    "print('Criteria polutants code:', criteria_code)\n",
    "\n",
    "carbon_monoxide_code = datafetcher.get_codes(LIST_PARAM_IN_CLASS, all=False, value='Carbon monoxide', nparams={'pc':criteria_code})\n",
    "print('Carbon monoxide code:', carbon_monoxide_code)"
   ]
  },
  {
   "cell_type": "code",
   "execution_count": 10,
   "metadata": {},
   "outputs": [
    {
     "ename": "NameError",
     "evalue": "name 'get_data' is not defined",
     "output_type": "error",
     "traceback": [
      "\u001b[0;31m---------------------------------------------------------------------------\u001b[0m",
      "\u001b[0;31mNameError\u001b[0m                                 Traceback (most recent call last)",
      "\u001b[0;32m/var/folders/m3/b8xwv4517bb1wvybw982vznw0000gn/T/ipykernel_25623/481614057.py\u001b[0m in \u001b[0;36m<module>\u001b[0;34m\u001b[0m\n\u001b[0;32m----> 1\u001b[0;31m \u001b[0mcali_sample_json\u001b[0m \u001b[0;34m=\u001b[0m \u001b[0mget_data\u001b[0m\u001b[0;34m(\u001b[0m\u001b[0mSAMPLE_DATA_BY_STATE\u001b[0m\u001b[0;34m,\u001b[0m \u001b[0mcarbon_monoxide_code\u001b[0m\u001b[0;34m,\u001b[0m \u001b[0;36m20180101\u001b[0m\u001b[0;34m,\u001b[0m \u001b[0;36m20180115\u001b[0m\u001b[0;34m,\u001b[0m \u001b[0mnparams\u001b[0m\u001b[0;34m=\u001b[0m\u001b[0;34m{\u001b[0m\u001b[0;34m'state'\u001b[0m\u001b[0;34m:\u001b[0m\u001b[0mcali_code\u001b[0m\u001b[0;34m}\u001b[0m\u001b[0;34m)\u001b[0m\u001b[0;34m\u001b[0m\u001b[0;34m\u001b[0m\u001b[0m\n\u001b[0m",
      "\u001b[0;31mNameError\u001b[0m: name 'get_data' is not defined"
     ]
    }
   ],
   "source": [
    "cali_sample_df = datafetcher.get_data(SAMPLE_DATA_BY_STATE, carbon_monoxide_code, 20180101, 20180115, df=True, nparams={'state':cali_code})\n",
    "\n",
    "\n",
    "los_angeles_code = datafetcher.get_codes(LIST_COUNTIES_BY_STATE, all=False, value='Los Angeles', nparams={'state':cali_code})\n",
    "print(\"Los Angeles county code: \", los_angeles_code)\n",
    "\n",
    "pomona_code = datafetcher.get_codes(LIST_SITES_BY_COUNTY, all=False, value='Pomona', nparams={'state':cali_code, 'county':los_angeles_code})\n",
    "print(\"Pomona site code: \", pomona_code)\n",
    "\n",
    "pomona_site_json = datafetcher.get_data(SAMPLE_DATA_BY_SITE, carbon_monoxide_code, 20180101, 20181231, nparams={'state':cali_code, 'county':los_angeles_code, 'site': pomona_code})\n",
    "pomona_site_df = pd.DataFrame(pomona_site_json)\n",
    "pomona_site_df.head()"
   ]
  },
  {
   "cell_type": "code",
   "execution_count": null,
   "metadata": {},
   "outputs": [],
   "source": []
  }
 ],
 "metadata": {
  "interpreter": {
   "hash": "3cc2e85f8650ef9fcfc5bc3e7f0788c78043c315bbefa38b7ea1a0f7560c365a"
  },
  "kernelspec": {
   "display_name": "Python 3.7.5 ('venv': venv)",
   "language": "python",
   "name": "python3"
  },
  "language_info": {
   "codemirror_mode": {
    "name": "ipython",
    "version": 3
   },
   "file_extension": ".py",
   "mimetype": "text/x-python",
   "name": "python",
   "nbconvert_exporter": "python",
   "pygments_lexer": "ipython3",
   "version": "3.7.5"
  },
  "orig_nbformat": 4
 },
 "nbformat": 4,
 "nbformat_minor": 2
}
